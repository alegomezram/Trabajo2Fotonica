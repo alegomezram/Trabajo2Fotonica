{
 "cells": [
  {
   "cell_type": "markdown",
   "id": "3e944d68-8323-4a8f-a2b1-d4036e979087",
   "metadata": {},
   "source": [
    "# Trabajo 2 Fotonica"
   ]
  },
  {
   "cell_type": "markdown",
   "id": "e39d7f85-741d-4a90-bb44-ac04857638f4",
   "metadata": {},
   "source": [
    "## Librerías y modulos:"
   ]
  },
  {
   "cell_type": "markdown",
   "id": "3c62e331-c6cb-40d6-8481-d7c6eb8255aa",
   "metadata": {},
   "source": [
    "Librerias de python a usar:"
   ]
  },
  {
   "cell_type": "code",
   "execution_count": 1,
   "id": "c01bbe2d-a089-4cdc-94d6-c0a90c3d6b99",
   "metadata": {},
   "outputs": [],
   "source": [
    "import numpy as np\n",
    "import scipy.special as sp\n",
    "import scipy.optimize as sp2\n",
    "import matplotlib.pyplot as plt\n",
    "import pandas as pd"
   ]
  },
  {
   "cell_type": "markdown",
   "id": "82e7b1e3-7b72-44a0-98bd-d7c9a4517eb1",
   "metadata": {},
   "source": [
    "Modulos propios en el documento:"
   ]
  },
  {
   "cell_type": "code",
   "execution_count": 2,
   "id": "c261a651-6b6c-41a2-9d85-c0d63b9d30f5",
   "metadata": {},
   "outputs": [],
   "source": [
    "from core_refractive_index import *\n",
    "from q1yq2 import *\n",
    "from TE_TM import *\n",
    "from Zeros import *\n",
    "from HE import *"
   ]
  },
  {
   "cell_type": "markdown",
   "id": "7617d44c-17d1-477f-a802-60adf2ce6e00",
   "metadata": {},
   "source": [
    "## Planteamiento del problema:"
   ]
  },
  {
   "cell_type": "markdown",
   "id": "440da715-4ebe-47c5-93a6-25177fc9ef4e",
   "metadata": {},
   "source": [
    "Encontrar todos los posibles modos que se pueden propagar en la fibra óptica Corning SMF-28, para una longitud de onda incidente de $1\\mu m$. Para el índice de refracción del revestimiento, tomar como material sílice pura (SiO2 ) y para el núcleo, sílice dopada con GeO2 al 4.2 mol%."
   ]
  },
  {
   "cell_type": "markdown",
   "id": "aac2d8cf-df06-46be-b635-5cf4fde82ae4",
   "metadata": {},
   "source": [
    "Para obtener todos los datos necesarios para el modelamiento de los modos que se pueden propagar, se hallan los indices de refracción a través de la ecuación de Sellmeier:"
   ]
  },
  {
   "cell_type": "markdown",
   "id": "8039f1de-3993-4d6e-a71a-4409f85fe52a",
   "metadata": {},
   "source": [
    "$$n(\\lambda)= \\sqrt{1 + \\sum_{i=1}^{M} A_{i} \\frac{\\lambda^{2}}{\\lambda^{2}-\\lambda_{i}^{2}}}$$"
   ]
  },
  {
   "cell_type": "markdown",
   "id": "f808c3fd-1929-4d9f-9833-51cc2a05b857",
   "metadata": {},
   "source": [
    "Para la realización de estos calculos se uso el articulo To the use of Sellmier formula, que contenía los valores correspondientes a los primeros coeficientes de Sellmier para el SiO2 (**calculo en modulo core_refractive_index**}  y una tabla de silice dopado para GeO2 (**Calculo en archivo de matlab**). Y se obtuvieron los siguientes resultados:"
   ]
  },
  {
   "cell_type": "code",
   "execution_count": 3,
   "id": "d678e57b-7836-48a4-950f-28776b6fc01b",
   "metadata": {},
   "outputs": [
    {
     "name": "stdout",
     "output_type": "stream",
     "text": [
      "Indice de refracción del nucleo:  1.4568527308462205\n"
     ]
    }
   ],
   "source": [
    "print('Indice de refracción del nucleo: ', n_core())"
   ]
  },
  {
   "cell_type": "code",
   "execution_count": 4,
   "id": "4609e2ad-2271-4f9b-b87d-69300a8b3a48",
   "metadata": {},
   "outputs": [
    {
     "name": "stdout",
     "output_type": "stream",
     "text": [
      "Indice de refracción del revestimiento:  1.450417399464332\n"
     ]
    }
   ],
   "source": [
    "print('Indice de refracción del revestimiento: ', n_cladding())"
   ]
  },
  {
   "cell_type": "markdown",
   "id": "5623c3fa-f4d1-4c99-9bdf-2f50c10a7b1c",
   "metadata": {},
   "source": [
    "Como último dato necesario para el calculo de los modos de propagación de la onda en la fibra óptica, es necesario conocer el radio de la misma, según su hojade datos posee un diametro de $8.2 \\mu m$ en el nucleo, por tanto los datos completo serían:"
   ]
  },
  {
   "cell_type": "markdown",
   "id": "5247683b-07dc-4e2d-bbbb-e2394337eaff",
   "metadata": {},
   "source": [
    "$$a = 4.1 \\mu m$$\n",
    "$$n_{co} = 1.45685$$\n",
    "$$n_{cl} = 1.45042$$\n",
    "$$\\lambda_{0} = 1 \\mu m$$"
   ]
  },
  {
   "cell_type": "markdown",
   "id": "9b83de53-ce39-4fb7-a043-9cabe1bc6364",
   "metadata": {},
   "source": [
    "## Modos TE y TM"
   ]
  },
  {
   "cell_type": "markdown",
   "id": "058d61fa-b869-4833-b56f-4efcbaa55bec",
   "metadata": {},
   "source": [
    "Siendo estos indices de refracción muy cercanos, se trata de una situación de guiado debil, por tanto la ecuación de dispersión para los modos TE y TM esta dada por (**contenida en el modulo TE_TM**): "
   ]
  },
  {
   "cell_type": "markdown",
   "id": "64859fef-65da-4d53-86dc-2080e47f8497",
   "metadata": {},
   "source": [
    "$$q_{1} \\frac{J_{0}(q_{1}a)}{J_{1}(q_{1}a)}=- q_{2} \\frac{K_{0}(q_{2}a)}{K_{1}(q_{2}a)}$$"
   ]
  },
  {
   "cell_type": "markdown",
   "id": "d747ea77-dc59-42d4-b6cd-59c58a4d3d8e",
   "metadata": {},
   "source": [
    "Donde $q_{1}$ y $q_{2}$ (**Conteidas en el modulo \"q1yq2\", con un factor de escala de 10⁶**) son respectivamente:"
   ]
  },
  {
   "cell_type": "markdown",
   "id": "dbd22c9b-46ff-4ef8-9866-203abccfbfd3",
   "metadata": {},
   "source": [
    "$$q_{1} = \\sqrt{n_{co}^{2} k_{0}^{2} - \\beta^{2}}$$\n",
    "$$q_{2} = \\sqrt{\\beta^{2} - n_{cl}^{2} k_{0}^{2}}$$"
   ]
  },
  {
   "cell_type": "markdown",
   "id": "a2748734-c43f-4df5-a531-56982bd99f95",
   "metadata": {},
   "source": [
    "Por tanto:"
   ]
  },
  {
   "cell_type": "markdown",
   "id": "bdda397f-6a6d-4e5e-8290-bfefddab2d9f",
   "metadata": {},
   "source": [
    "$$k_{0}n_{cl} < \\beta < k_{0}$$"
   ]
  },
  {
   "cell_type": "code",
   "execution_count": 5,
   "id": "7b8ea85f-68cf-40bb-8655-c3e214720bd9",
   "metadata": {},
   "outputs": [
    {
     "name": "stdout",
     "output_type": "stream",
     "text": [
      "El rango de beta es: ( 9113241.293591917 , 9153675.67317743 )\n"
     ]
    }
   ],
   "source": [
    "print(r'El rango de beta es: (', ko*ncl, ',', ko*nco, ')')"
   ]
  },
  {
   "cell_type": "markdown",
   "id": "0091797b-18b2-4b42-8665-8e7ce37a47e9",
   "metadata": {},
   "source": [
    "Sabiendo que los ceros de la función se encuentran en la resta de las funciones:"
   ]
  },
  {
   "cell_type": "markdown",
   "id": "d5d47d51-e4ae-40cb-90f3-573cf62ade19",
   "metadata": {},
   "source": [
    "$$f(\\beta) = q_{1} \\frac{J_{0}(q_{1}a)}{J_{1}(q_{1}a)}$$\n",
    "$$g(\\beta) = - q_{2} \\frac{K_{0}(q_{2}a)}{K_{1}(q_{2}a)}$$"
   ]
  },
  {
   "cell_type": "markdown",
   "id": "91856e67-39bf-46f8-879a-2d53bda6161e",
   "metadata": {},
   "source": [
    "Se grafican estas funciones para tener conomiento del numero modos TE y TM y su ubicación:"
   ]
  },
  {
   "cell_type": "code",
   "execution_count": 6,
   "id": "3199989a-1412-40bc-bff9-79fcf750158b",
   "metadata": {},
   "outputs": [],
   "source": [
    "xx = np.linspace(9.114,9.1527,100)\n",
    "yy = tm_te(xx)\n",
    "yy1 = tm_te_01(xx)\n",
    "yy2 = tm_te_02(xx)"
   ]
  },
  {
   "cell_type": "code",
   "execution_count": 7,
   "id": "323f0bd0-f6a7-4c0e-94f5-a5053d65b95b",
   "metadata": {},
   "outputs": [
    {
     "data": {
      "image/png": "[encoded data removed]",
      "text/plain": [
       "<Figure size 432x288 with 1 Axes>"
      ]
     },
     "metadata": {
      "needs_background": "light"
     },
     "output_type": "display_data"
    }
   ],
   "source": [
    "fig, ax = plt.subplots()\n",
    "#ax.plot(xx,yy, label='S(b)', color='black')\n",
    "ax.plot(xx,yy1, label=r'f($\\beta$)', color='red')\n",
    "ax.plot(xx,yy2, label=r'g($\\beta$)', color='black')\n",
    "ax.set(xlabel=r'Velocidad de propagación $\\beta * 10^{6}$', ylabel=r'g($\\beta$) y g($\\beta$)',\n",
    "title=r'Puntos de corte f($\\beta$) y g($\\beta$)')\n",
    "ax.grid()\n",
    "plt.legend(loc='upper right')\n",
    "fig.tight_layout()\n",
    "plt.savefig('Puntos de corte TE y TM.png')\n",
    "plt.show()"
   ]
  },
  {
   "cell_type": "markdown",
   "id": "1ca47d48-277c-4831-9798-7a0ff41809ea",
   "metadata": {},
   "source": [
    "Solo existe un modo TE y un modo TE, el fundamental, por tanto se puede aplicar el metodo de bisección sobre todo el dominio de la función para hallarlo:"
   ]
  },
  {
   "cell_type": "code",
   "execution_count": 14,
   "id": "ad3bf9e5-8f65-4ceb-ac14-ee05736e7e81",
   "metadata": {},
   "outputs": [
    {
     "name": "stdout",
     "output_type": "stream",
     "text": [
      "El modo fundamental TE y TM posee una velocidad de propagación de:  9.126608230777013 con un indice de refracción efectivo:  1.452544813591339\n"
     ]
    }
   ],
   "source": [
    "tm_te_zeros = sp2.bisect(tm_te,9.114,9.1527)\n",
    "neff_TE_TM = (tm_te_zeros / ko) * (10 ** 6)\n",
    "print('El modo fundamental TE y TM posee una velocidad de propagación de: ', tm_te_zeros, 'con un indice de refracción efectivo: ', neff_TE_TM)"
   ]
  },
  {
   "cell_type": "markdown",
   "id": "a1e6d40d-700a-4b5c-926e-5dbae02481de",
   "metadata": {},
   "source": [
    "Estonces:\n",
    "\n",
    "$$TE_{01}: n_{eff} =  1.452544813591339$$\n",
    "$$TM_{01}: n_{eff} =  1.452544813591339$$"
   ]
  },
  {
   "cell_type": "code",
   "execution_count": 9,
   "id": "4d983cde-ab0f-4283-92be-033a1cca2ef0",
   "metadata": {},
   "outputs": [],
   "source": [
    "#df =  pd.DataFrame()\n",
    "#df['neff modos Te y TM'] = [tm_te_zeros]\n",
    "#df.to_csv('Data/Data.csv')"
   ]
  },
  {
   "cell_type": "markdown",
   "id": "945bffcd-262f-48e2-ba81-0f629a958023",
   "metadata": {},
   "source": [
    "## Modos HE"
   ]
  },
  {
   "cell_type": "markdown",
   "id": "f427c9d2-d325-4f15-83bc-bb367d4660b8",
   "metadata": {},
   "source": [
    "La ecuación de dispersión para los modos HE en guiado debil (**Contenida en el modulo HE**):"
   ]
  },
  {
   "cell_type": "markdown",
   "id": "444cfbd8-08a7-4934-ab55-2351b9d25432",
   "metadata": {},
   "source": [
    "$$q_{1} \\frac{J_{v}(q_{1}a)}{J_{v-1}(q_{1}a)} = q_{2} \\frac{K_{v}(q_{2}a)}{K_{v-1}(q_{2}a)}$$"
   ]
  },
  {
   "cell_type": "markdown",
   "id": "e9f7f408-de7a-466d-af06-10381899fce7",
   "metadata": {},
   "source": [
    "Por tanto, al graficar las funciones: "
   ]
  },
  {
   "cell_type": "markdown",
   "id": "6990a7ce-6749-4c27-88ee-4e51752f58fa",
   "metadata": {},
   "source": [
    "$$h(v,\\beta) = q_{1} \\frac{J_{v}(q_{1}a)}{J_{v-1}(q_{1}a)}$$\n",
    "$$i(v,\\beta) = q_{2} \\frac{K_{v}(q_{2}a)}{K_{v-1}(q_{2}a)}$$"
   ]
  },
  {
   "cell_type": "markdown",
   "id": "08754ce1-67c2-48a9-b4c8-d9fa0495a0b7",
   "metadata": {},
   "source": [
    "Podemos saber la ubicación de sus raices en los puntos de corte, tomando valores discretos de $v:1,2,3 ...$."
   ]
  },
  {
   "cell_type": "markdown",
   "id": "642d60a3-388e-4cf9-8cbf-2ef918dab99d",
   "metadata": {},
   "source": [
    "Primeramente graficando "
   ]
  },
  {
   "cell_type": "code",
   "execution_count": 10,
   "id": "25de2611-bde5-4cd7-992a-83ecc8590c9d",
   "metadata": {},
   "outputs": [],
   "source": [
    "xxx = np.linspace(9.114,9.1527,100)\n",
    "yyy = HE(1,xxx)\n",
    "yyy1 = HE_01(1,xxx)\n",
    "yyy2 = HE_02(1,xxx)"
   ]
  },
  {
   "cell_type": "code",
   "execution_count": 11,
   "id": "601bb687-a0fc-4371-b872-fd0d8965109a",
   "metadata": {},
   "outputs": [
    {
     "data": {
      "image/png": "[encoded data removed]",
      "text/plain": [
       "<Figure size 432x288 with 1 Axes>"
      ]
     },
     "metadata": {
      "needs_background": "light"
     },
     "output_type": "display_data"
    }
   ],
   "source": [
    "fig, ax = plt.subplots()\n",
    "ax.plot(xxx,yyy, label='S(b)', color='green')\n",
    "#ax.plot(xxx,yyy1, label=r'f($\\beta$)', color='red')\n",
    "#ax.plot(xxx,yyy2, label=r'g($\\beta$)', color='black')\n",
    "ax.set(xlabel=r'Velocidad de propagación $\\beta * 10^{6}$', ylabel=r'g($\\beta$) y g($\\beta$)',\n",
    "title=r'Puntos de corte f($\\beta$) y g($\\beta$)')\n",
    "ax.grid()\n",
    "plt.legend(loc='upper right')\n",
    "fig.tight_layout()\n",
    "plt.savefig('Puntos de corte TE y TM.png')\n",
    "plt.show()"
   ]
  },
  {
   "cell_type": "code",
   "execution_count": 13,
   "id": "c77433ef-564b-42a6-8334-2d10152c70df",
   "metadata": {},
   "outputs": [
    {
     "data": {
      "text/plain": [
       "9.134864303931828"
      ]
     },
     "execution_count": 13,
     "metadata": {},
     "output_type": "execute_result"
    }
   ],
   "source": [
    "def HE_v1(beta):\n",
    "    HE_v1 = HE(1,beta)\n",
    "    return HE_v1\n",
    "\n",
    "\n",
    "HE_zeros = sp2.bisect(HE_v1,9.140,9.130)\n",
    "HE_zeros"
   ]
  },
  {
   "cell_type": "code",
   "execution_count": null,
   "id": "f0479563-fad0-4ef9-9cfc-1c27777631a5",
   "metadata": {},
   "outputs": [],
   "source": []
  }
 ],
 "metadata": {
  "kernelspec": {
   "display_name": "Python 3 (ipykernel)",
   "language": "python",
   "name": "python3"
  },
  "language_info": {
   "codemirror_mode": {
    "name": "ipython",
    "version": 3
   },
   "file_extension": ".py",
   "mimetype": "text/x-python",
   "name": "python",
   "nbconvert_exporter": "python",
   "pygments_lexer": "ipython3",
   "version": "3.10.4"
  }
 },
 "nbformat": 4,
 "nbformat_minor": 5
}
