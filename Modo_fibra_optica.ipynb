{
 "cells": [
  {
   "cell_type": "markdown",
   "id": "3e944d68-8323-4a8f-a2b1-d4036e979087",
   "metadata": {},
   "source": [
    "# Trabajo 2 Fotonica"
   ]
  },
  {
   "cell_type": "markdown",
   "id": "e39d7f85-741d-4a90-bb44-ac04857638f4",
   "metadata": {},
   "source": [
    "## Librerías y modulos:"
   ]
  },
  {
   "cell_type": "markdown",
   "id": "3c62e331-c6cb-40d6-8481-d7c6eb8255aa",
   "metadata": {},
   "source": [
    "Librerias de python a usar:"
   ]
  },
  {
   "cell_type": "code",
   "execution_count": 1,
   "id": "c01bbe2d-a089-4cdc-94d6-c0a90c3d6b99",
   "metadata": {},
   "outputs": [],
   "source": [
    "import numpy as np\n",
    "import scipy.special as sp\n",
    "import scipy.optimize as sp2\n",
    "import matplotlib.pyplot as plt\n",
    "import pandas as pd"
   ]
  },
  {
   "cell_type": "markdown",
   "id": "82e7b1e3-7b72-44a0-98bd-d7c9a4517eb1",
   "metadata": {},
   "source": [
    "Modulos propios en el documento:"
   ]
  },
  {
   "cell_type": "code",
   "execution_count": 2,
   "id": "c261a651-6b6c-41a2-9d85-c0d63b9d30f5",
   "metadata": {},
   "outputs": [],
   "source": [
    "from core_refractive_index import *\n",
    "from q1yq2 import *\n",
    "from TE_TM import *\n",
    "from Zeros import *\n",
    "from HE import *\n",
    "from EH import *\n",
    "from polar import *"
   ]
  },
  {
   "cell_type": "markdown",
   "id": "7617d44c-17d1-477f-a802-60adf2ce6e00",
   "metadata": {},
   "source": [
    "## Planteamiento del problema:"
   ]
  },
  {
   "cell_type": "markdown",
   "id": "440da715-4ebe-47c5-93a6-25177fc9ef4e",
   "metadata": {},
   "source": [
    "Encontrar todos los posibles modos que se pueden propagar en la fibra óptica Corning SMF-28, para una longitud de onda incidente de $1\\mu m$. Para el índice de refracción del revestimiento, tomar como material sílice pura (SiO2 ) y para el núcleo, sílice dopada con GeO2 al 4.2 mol%."
   ]
  },
  {
   "cell_type": "markdown",
   "id": "aac2d8cf-df06-46be-b635-5cf4fde82ae4",
   "metadata": {},
   "source": [
    "Para obtener todos los datos necesarios para el modelamiento de los modos que se pueden propagar, se hallan los indices de refracción a través de la ecuación de Sellmeier:"
   ]
  },
  {
   "cell_type": "markdown",
   "id": "8039f1de-3993-4d6e-a71a-4409f85fe52a",
   "metadata": {},
   "source": [
    "$$n(\\lambda)= \\sqrt{1 + \\sum_{i=1}^{M} A_{i} \\frac{\\lambda^{2}}{\\lambda^{2}-\\lambda_{i}^{2}}}$$"
   ]
  },
  {
   "cell_type": "markdown",
   "id": "f808c3fd-1929-4d9f-9833-51cc2a05b857",
   "metadata": {},
   "source": [
    "Para la realización de estos calculos se uso el articulo To the use of Sellmier formula, que contenía los valores correspondientes a los primeros coeficientes de Sellmier para el SiO2 (**calculo en modulo core_refractive_index**}  y una tabla de silice dopado para GeO2 (**Calculo en archivo de matlab**). Y se obtuvieron los siguientes resultados:"
   ]
  },
  {
   "cell_type": "code",
   "execution_count": 3,
   "id": "d678e57b-7836-48a4-950f-28776b6fc01b",
   "metadata": {},
   "outputs": [
    {
     "name": "stdout",
     "output_type": "stream",
     "text": [
      "Indice de refracción del nucleo:  1.4568527308462205\n"
     ]
    }
   ],
   "source": [
    "print('Indice de refracción del nucleo: ', n_core())"
   ]
  },
  {
   "cell_type": "code",
   "execution_count": 4,
   "id": "4609e2ad-2271-4f9b-b87d-69300a8b3a48",
   "metadata": {},
   "outputs": [
    {
     "name": "stdout",
     "output_type": "stream",
     "text": [
      "Indice de refracción del revestimiento:  1.450417399464332\n"
     ]
    }
   ],
   "source": [
    "print('Indice de refracción del revestimiento: ', n_cladding())"
   ]
  },
  {
   "cell_type": "markdown",
   "id": "5623c3fa-f4d1-4c99-9bdf-2f50c10a7b1c",
   "metadata": {},
   "source": [
    "Como último dato necesario para el calculo de los modos de propagación de la onda en la fibra óptica, es necesario conocer el radio de la misma, según su hojade datos posee un diametro de $8.2 \\mu m$ en el nucleo, por tanto los datos completo serían:"
   ]
  },
  {
   "cell_type": "markdown",
   "id": "5247683b-07dc-4e2d-bbbb-e2394337eaff",
   "metadata": {},
   "source": [
    "$$a = 4.1 \\mu m$$\n",
    "$$n_{co} = 1.45685$$\n",
    "$$n_{cl} = 1.45042$$\n",
    "$$\\lambda_{0} = 1 \\mu m$$"
   ]
  },
  {
   "cell_type": "markdown",
   "id": "9b83de53-ce39-4fb7-a043-9cabe1bc6364",
   "metadata": {},
   "source": [
    "## Modos TE y TM"
   ]
  },
  {
   "cell_type": "markdown",
   "id": "058d61fa-b869-4833-b56f-4efcbaa55bec",
   "metadata": {},
   "source": [
    "Siendo estos indices de refracción muy cercanos, se trata de una situación de guiado debil, por tanto la ecuación de dispersión para los modos TE y TM esta dada por (**contenida en el modulo TE_TM**): "
   ]
  },
  {
   "cell_type": "markdown",
   "id": "64859fef-65da-4d53-86dc-2080e47f8497",
   "metadata": {},
   "source": [
    "$$q_{1} \\frac{J_{0}(q_{1}a)}{J_{1}(q_{1}a)}=- q_{2} \\frac{K_{0}(q_{2}a)}{K_{1}(q_{2}a)}$$"
   ]
  },
  {
   "cell_type": "markdown",
   "id": "d747ea77-dc59-42d4-b6cd-59c58a4d3d8e",
   "metadata": {},
   "source": [
    "Donde $q_{1}$ y $q_{2}$ (**Conteidas en el modulo \"q1yq2\", con un factor de escala de 10⁶**) son respectivamente:"
   ]
  },
  {
   "cell_type": "markdown",
   "id": "dbd22c9b-46ff-4ef8-9866-203abccfbfd3",
   "metadata": {},
   "source": [
    "$$q_{1} = \\sqrt{n_{co}^{2} k_{0}^{2} - \\beta^{2}}$$\n",
    "$$q_{2} = \\sqrt{\\beta^{2} - n_{cl}^{2} k_{0}^{2}}$$"
   ]
  },
  {
   "cell_type": "markdown",
   "id": "a2748734-c43f-4df5-a531-56982bd99f95",
   "metadata": {},
   "source": [
    "Por tanto:"
   ]
  },
  {
   "cell_type": "markdown",
   "id": "bdda397f-6a6d-4e5e-8290-bfefddab2d9f",
   "metadata": {},
   "source": [
    "$$k_{0}n_{cl} < \\beta < k_{0}$$"
   ]
  },
  {
   "cell_type": "code",
   "execution_count": 5,
   "id": "7b8ea85f-68cf-40bb-8655-c3e214720bd9",
   "metadata": {},
   "outputs": [
    {
     "name": "stdout",
     "output_type": "stream",
     "text": [
      "El rango de beta es: ( 9113241.293591917 , 9153675.67317743 )\n"
     ]
    }
   ],
   "source": [
    "print(r'El rango de beta es: (', ko*ncl, ',', ko*nco, ')')"
   ]
  },
  {
   "cell_type": "markdown",
   "id": "0091797b-18b2-4b42-8665-8e7ce37a47e9",
   "metadata": {},
   "source": [
    "Sabiendo que los ceros de la función se encuentran en la resta de las funciones:"
   ]
  },
  {
   "cell_type": "markdown",
   "id": "d5d47d51-e4ae-40cb-90f3-573cf62ade19",
   "metadata": {},
   "source": [
    "$$f(\\beta) = q_{1} \\frac{J_{0}(q_{1}a)}{J_{1}(q_{1}a)}$$\n",
    "$$g(\\beta) = - q_{2} \\frac{K_{0}(q_{2}a)}{K_{1}(q_{2}a)}$$"
   ]
  },
  {
   "cell_type": "markdown",
   "id": "91856e67-39bf-46f8-879a-2d53bda6161e",
   "metadata": {},
   "source": [
    "Se grafican estas funciones para tener conomiento del numero modos TE y TM y su ubicación:"
   ]
  },
  {
   "cell_type": "code",
   "execution_count": 6,
   "id": "3199989a-1412-40bc-bff9-79fcf750158b",
   "metadata": {},
   "outputs": [],
   "source": [
    "xx = np.linspace(9.114,9.1527,100)\n",
    "yy = tm_te(xx)\n",
    "yy1 = tm_te_01(xx)\n",
    "yy2 = tm_te_02(xx)"
   ]
  },
  {
   "cell_type": "code",
   "execution_count": 47,
   "id": "323f0bd0-f6a7-4c0e-94f5-a5053d65b95b",
   "metadata": {},
   "outputs": [
    {
     "data": {
      "image/png": "[encoded data removed]",
      "text/plain": [
       "<Figure size 432x288 with 1 Axes>"
      ]
     },
     "metadata": {
      "needs_background": "light"
     },
     "output_type": "display_data"
    }
   ],
   "source": [
    "fig, ax = plt.subplots()\n",
    "#ax.plot(xx,yy, label='S(b)', color='black')\n",
    "ax.plot(xx,yy1, label=r'f($\\beta$)', color='red')\n",
    "ax.plot(xx,yy2, label=r'g($\\beta$)', color='black')\n",
    "ax.set(xlabel=r'Constante de propagación $\\beta * \\mu m^{-1}$', ylabel=r'f($\\beta$) y g($\\beta$)',\n",
    "title=r'Puntos de corte f($\\beta$) y g($\\beta$)')\n",
    "ax.grid()\n",
    "plt.legend(loc='upper right')\n",
    "fig.tight_layout()\n",
    "plt.savefig('Puntos de corte TE y TM.png')\n",
    "plt.show()"
   ]
  },
  {
   "cell_type": "markdown",
   "id": "1ca47d48-277c-4831-9798-7a0ff41809ea",
   "metadata": {},
   "source": [
    "Solo existe un modo TE y un modo TE, el fundamental, por tanto se puede aplicar el metodo de bisección sobre todo el dominio de la función para hallarlo:"
   ]
  },
  {
   "cell_type": "code",
   "execution_count": 8,
   "id": "ad3bf9e5-8f65-4ceb-ac14-ee05736e7e81",
   "metadata": {},
   "outputs": [
    {
     "name": "stdout",
     "output_type": "stream",
     "text": [
      "El modo fundamental TE y TM posee una velocidad de propagación de:  9.126608230777013 con un indice de refracción efectivo:  1.452544813591339\n"
     ]
    }
   ],
   "source": [
    "tm_te_zeros = sp2.bisect(tm_te,9.114,9.1527)\n",
    "neff_TE_TM = (tm_te_zeros / ko) * (10 ** 6)\n",
    "print('El modo fundamental TE y TM posee una velocidad de propagación de: ', tm_te_zeros, 'con un indice de refracción efectivo: ', neff_TE_TM)"
   ]
  },
  {
   "cell_type": "markdown",
   "id": "a1e6d40d-700a-4b5c-926e-5dbae02481de",
   "metadata": {},
   "source": [
    "Estonces:\n",
    "\n",
    "$$TE_{01}: n_{eff} =  1.452544813591339$$\n",
    "$$TM_{01}: n_{eff} =  1.452544813591339$$"
   ]
  },
  {
   "cell_type": "markdown",
   "id": "945bffcd-262f-48e2-ba81-0f629a958023",
   "metadata": {},
   "source": [
    "## Modos HE"
   ]
  },
  {
   "cell_type": "markdown",
   "id": "f427c9d2-d325-4f15-83bc-bb367d4660b8",
   "metadata": {},
   "source": [
    "La ecuación de dispersión para los modos HE en guiado debil (**Contenida en el modulo HE**):"
   ]
  },
  {
   "cell_type": "markdown",
   "id": "444cfbd8-08a7-4934-ab55-2351b9d25432",
   "metadata": {},
   "source": [
    "$$q_{1} \\frac{J_{v}(q_{1}a)}{J_{v-1}(q_{1}a)} = q_{2} \\frac{K_{v}(q_{2}a)}{K_{v-1}(q_{2}a)}$$"
   ]
  },
  {
   "cell_type": "markdown",
   "id": "e9f7f408-de7a-466d-af06-10381899fce7",
   "metadata": {},
   "source": [
    "Por tanto, al graficar las funciones: "
   ]
  },
  {
   "cell_type": "markdown",
   "id": "6990a7ce-6749-4c27-88ee-4e51752f58fa",
   "metadata": {},
   "source": [
    "$$h(v,\\beta) = q_{1} \\frac{J_{v}(q_{1}a)}{J_{v-1}(q_{1}a)}$$\n",
    "$$i(v,\\beta) = q_{2} \\frac{K_{v}(q_{2}a)}{K_{v-1}(q_{2}a)}$$"
   ]
  },
  {
   "cell_type": "markdown",
   "id": "08754ce1-67c2-48a9-b4c8-d9fa0495a0b7",
   "metadata": {},
   "source": [
    "Podemos saber la ubicación de sus raices en los puntos de corte, tomando valores discretos de $v:1,2,3 ...$."
   ]
  },
  {
   "cell_type": "markdown",
   "id": "642d60a3-388e-4cf9-8cbf-2ef918dab99d",
   "metadata": {},
   "source": [
    "Primeramente graficando los puntos de corte para el modo angular uno:"
   ]
  },
  {
   "cell_type": "code",
   "execution_count": 9,
   "id": "25de2611-bde5-4cd7-992a-83ecc8590c9d",
   "metadata": {},
   "outputs": [],
   "source": [
    "xxx = np.linspace(9.114,9.1527,100)\n",
    "yyy = HE(1,xxx)\n",
    "yyy1 = HE_01(1,xxx)\n",
    "yyy2 = HE_02(1,xxx)"
   ]
  },
  {
   "cell_type": "code",
   "execution_count": 10,
   "id": "601bb687-a0fc-4371-b872-fd0d8965109a",
   "metadata": {},
   "outputs": [
    {
     "data": {
      "image/png": "[encoded data removed]",
      "text/plain": [
       "<Figure size 432x288 with 1 Axes>"
      ]
     },
     "metadata": {
      "needs_background": "light"
     },
     "output_type": "display_data"
    }
   ],
   "source": [
    "fig, ax = plt.subplots()\n",
    "#ax.plot(xxx,yyy, label='S(b)', color='green')\n",
    "ax.plot(xxx,yyy1, label=r'h(1,$\\beta$)', color='red')\n",
    "ax.plot(xxx,yyy2, label=r'i(1,$\\beta$)', color='black')\n",
    "ax.set(xlabel=r'Constante de propagación $\\beta * 10^{6}$', ylabel=r'h(1,$\\beta$) y i(1,$\\beta$)',\n",
    "title=r'Puntos de corte h(1,$\\beta$) y i(1,$\\beta$)')\n",
    "ax.grid()\n",
    "plt.legend(loc='upper right')\n",
    "fig.tight_layout()\n",
    "plt.savefig('Puntos de corte HE_v1.png')\n",
    "plt.show()"
   ]
  },
  {
   "cell_type": "markdown",
   "id": "10a95bc8-6afb-424d-a046-3340128b3fb1",
   "metadata": {},
   "source": [
    "Se observa que posiblemente hayan dos modos radiales, uno anterior a $9.130 * 10^{6}$ y otro posterior a $9.140 * 10^{6}$."
   ]
  },
  {
   "cell_type": "markdown",
   "id": "c99e4d9b-eca1-4aec-b102-7ea0e8ae02de",
   "metadata": {},
   "source": [
    "Al evaluar el primer caso, obtenemos que no existe un cambio de signo en la función, ya que en el extremo izquiero la función toma el valor de:"
   ]
  },
  {
   "cell_type": "code",
   "execution_count": 11,
   "id": "50a7e90d-b748-4d16-95e0-71130e198659",
   "metadata": {},
   "outputs": [
    {
     "data": {
      "text/plain": [
       "-2724002.050815152"
      ]
     },
     "execution_count": 11,
     "metadata": {},
     "output_type": "execute_result"
    }
   ],
   "source": [
    "HE(1,9.13)"
   ]
  },
  {
   "cell_type": "markdown",
   "id": "c3bf3d6c-1e19-4e2a-b76c-c4332067540b",
   "metadata": {},
   "source": [
    "Y en el extremo derecho:"
   ]
  },
  {
   "cell_type": "code",
   "execution_count": 12,
   "id": "a97e1e8f-21b5-4f10-8785-141ff6c43077",
   "metadata": {},
   "outputs": [
    {
     "data": {
      "text/plain": [
       "-302526.90651117824"
      ]
     },
     "execution_count": 12,
     "metadata": {},
     "output_type": "execute_result"
    }
   ],
   "source": [
    "HE(1,9.113241293591917)"
   ]
  },
  {
   "cell_type": "markdown",
   "id": "40112165-2202-4be6-98c5-cc12dfd63a30",
   "metadata": {},
   "source": [
    "POr tanto, no existe ninguna raíz para valores inferiores a a $9.130 * 10^{6}$. Además, entre $9.130 * 10^{6}$ y $9.140 * 10^{6}$ parece existir un cero, sin embargo, por la forma de la función se puede saber que se trata de una discontinuidad. Por último, entre $9.140 * 10^{6}$ y $9.150 * 10^{6}$ se puede notar en la grafica que sí existe un cero, por tanto, lo hallamos por el metodo de bisección, que correspondería al modo $HE_{11}$."
   ]
  },
  {
   "cell_type": "code",
   "execution_count": 13,
   "id": "c77433ef-564b-42a6-8334-2d10152c70df",
   "metadata": {},
   "outputs": [
    {
     "name": "stdout",
     "output_type": "stream",
     "text": [
      "Velocidad de propagación modo HE11:  9.142541820110056\n"
     ]
    }
   ],
   "source": [
    "def HE_v1(beta):\n",
    "    HE_v1 = HE(1,beta)\n",
    "    return HE_v1\n",
    "\n",
    "\n",
    "HE_zeros_11 = sp2.bisect(HE_v1,9.140,9.150)\n",
    "print('Constante de propagación modo HE11: ', HE_zeros_11)"
   ]
  },
  {
   "cell_type": "markdown",
   "id": "212b2f65-0fa4-454b-8d38-60857b9d6218",
   "metadata": {},
   "source": [
    "Realizamos el mismo procedimiento para el modo angular $v=2$:"
   ]
  },
  {
   "cell_type": "code",
   "execution_count": 14,
   "id": "c2598284-a310-4c9a-abf9-abe9abbccbba",
   "metadata": {},
   "outputs": [],
   "source": [
    "xxx_v2 = np.linspace(9.114,9.1527,100)\n",
    "yyy_v2 = HE(2,xxx_v2)\n",
    "yyy1_v2 = HE_01(2,xxx_v2)\n",
    "yyy2_v2 = HE_02(2,xxx_v2)"
   ]
  },
  {
   "cell_type": "code",
   "execution_count": 15,
   "id": "f56b2fa7-e6dc-4012-b5cf-80f6ec5a12cd",
   "metadata": {},
   "outputs": [
    {
     "data": {
      "image/png": "[encoded data removed]",
      "text/plain": [
       "<Figure size 432x288 with 1 Axes>"
      ]
     },
     "metadata": {
      "needs_background": "light"
     },
     "output_type": "display_data"
    }
   ],
   "source": [
    "fig, ax = plt.subplots()\n",
    "#ax.plot(xxx,yyy, label='S(b)', color='green')\n",
    "ax.plot(xxx_v2,yyy1_v2, label=r'h(2,$\\beta$)', color='red')\n",
    "ax.plot(xxx_v2,yyy2_v2, label=r'i(2,$\\beta$)', color='black')\n",
    "ax.set(xlabel=r'Constante de propagación $\\beta * 10^{6}$', ylabel=r'h(2,$\\beta$) y i(2,$\\beta$)',\n",
    "title=r'Puntos de corte h(2,$\\beta$) y i(2,$\\beta$)')\n",
    "ax.grid()\n",
    "plt.legend(loc='upper right')\n",
    "fig.tight_layout()\n",
    "plt.savefig('Puntos de corte HE_v2.png')\n",
    "plt.show()"
   ]
  },
  {
   "cell_type": "markdown",
   "id": "4a838ecb-28e8-4275-aed7-355f829ef391",
   "metadata": {},
   "source": [
    "Se puede observar claramente una raíz, correspondiente al modo $HE_{21}$. Hallando dicho cero:"
   ]
  },
  {
   "cell_type": "code",
   "execution_count": 16,
   "id": "906ce48e-babf-4676-9ac5-8afd50551cda",
   "metadata": {},
   "outputs": [
    {
     "name": "stdout",
     "output_type": "stream",
     "text": [
      "Velocidad de propagación modo HE21:  9.12660823077767\n"
     ]
    }
   ],
   "source": [
    "def HE_v2(beta):\n",
    "    HE_v2 = HE(2,beta)\n",
    "    return HE_v2\n",
    "\n",
    "HE_zeros_21 = sp2.bisect(HE_v2,9.114,9.150)\n",
    "print('Velocidad de propagación modo HE21: ', HE_zeros_21)"
   ]
  },
  {
   "cell_type": "code",
   "execution_count": 17,
   "id": "90441059-3ef8-4559-84b6-45fec1b493ad",
   "metadata": {},
   "outputs": [
    {
     "name": "stdout",
     "output_type": "stream",
     "text": [
      "El modo de propagación HE11 posee una velocidad de propagación de:  9.142541820110056 y el modo de propagación HE21 posee una velocidad de propagación de:  9.12660823077767 con un indices de refracción efectivo respectivamente:  1.455080723094889 y 1.4525448135914436\n"
     ]
    }
   ],
   "source": [
    "neff_HE_11 = (HE_zeros_11 / ko) * (10 ** 6)\n",
    "neff_HE_21 = (HE_zeros_21 / ko) * (10 ** 6)\n",
    "print('El modo de propagación HE11 posee una velocidad de propagación de: ', HE_zeros_11, 'y el modo de propagación HE21 posee una velocidad de propagación de: ' , HE_zeros_21 , 'con un indices de refracción efectivo respectivamente: ', neff_HE_11, 'y', neff_HE_21)"
   ]
  },
  {
   "cell_type": "markdown",
   "id": "2946f556-f49a-42e0-8800-3674c830b535",
   "metadata": {},
   "source": [
    "Estonces: "
   ]
  },
  {
   "cell_type": "markdown",
   "id": "f3cc2f6a-ffc5-4ea8-82bb-1e20533de713",
   "metadata": {},
   "source": [
    "$$HE_{11}: n_{eff} = 1.455080723094889$$\n",
    "$$HE_{21}: n_{eff}= 1.4525448135914436$$"
   ]
  },
  {
   "cell_type": "markdown",
   "id": "cf23e0dc-c12c-4fdd-a746-62297b093439",
   "metadata": {},
   "source": [
    "Volvemos a realizar el mismo procedimiento para el modo angular $v=3$:"
   ]
  },
  {
   "cell_type": "code",
   "execution_count": 18,
   "id": "ac61c39c-919b-45a8-9fe9-0296b3a5dbb5",
   "metadata": {},
   "outputs": [],
   "source": [
    "xxx_v3 = np.linspace(9.114,9.1527,100)\n",
    "yyy_v3 = HE(3,xxx_v3)\n",
    "yyy1_v3 = HE_01(3,xxx_v3)\n",
    "yyy2_v3 = HE_02(3,xxx_v3)"
   ]
  },
  {
   "cell_type": "code",
   "execution_count": 19,
   "id": "b9d4152f-6dfc-416a-8f07-1273692e97a9",
   "metadata": {},
   "outputs": [
    {
     "data": {
      "image/png": "[encoded data removed]",
      "text/plain": [
       "<Figure size 432x288 with 1 Axes>"
      ]
     },
     "metadata": {
      "needs_background": "light"
     },
     "output_type": "display_data"
    }
   ],
   "source": [
    "fig, ax = plt.subplots()\n",
    "#ax.plot(xxx,yyy, label='S(b)', color='green')\n",
    "ax.plot(xxx_v3,yyy1_v3, label=r'h(3,$\\beta$)', color='red')\n",
    "ax.plot(xxx_v3,yyy2_v3, label=r'i(3,$\\beta$)', color='black')\n",
    "ax.set(xlabel=r'Constante de propagación $\\beta * 10^{6}$', ylabel=r'h(3,$\\beta$) y i(3,$\\beta$)',\n",
    "title=r'Puntos de corte h(3,$\\beta$) y i(3,$\\beta$)')\n",
    "ax.grid()\n",
    "plt.legend(loc='upper right')\n",
    "fig.tight_layout()\n",
    "plt.savefig('Puntos de corte HE_v3.png')\n",
    "plt.show()"
   ]
  },
  {
   "cell_type": "markdown",
   "id": "99d7c21d-a61f-4d5d-8fc3-cb8bab3e4b64",
   "metadata": {},
   "source": [
    "Es notorio que no existe ningún punto de corto, por tanto, ya se calcularon todos los modos de propagación posibles para los modos hibridos HE."
   ]
  },
  {
   "cell_type": "markdown",
   "id": "a692e5ce-a2bb-45fa-a323-84799ce7761b",
   "metadata": {},
   "source": [
    "## Modos EH"
   ]
  },
  {
   "cell_type": "markdown",
   "id": "dfdd0596-f3d5-4c63-b943-392a382d3b04",
   "metadata": {},
   "source": [
    "La ecuación de dispersión para los modos hibridos EH es:"
   ]
  },
  {
   "cell_type": "markdown",
   "id": "ea60effe-1950-43f3-999d-8140b682d7e2",
   "metadata": {},
   "source": [
    "$$q_{1} \\frac{J_{v}(q_{1}a)}{J_{v+1}(q_{1}a)} = -q_{2} \\frac{K_{v}(q_{2}a)}{K_{v+1}(q_{2}a)}$$"
   ]
  },
  {
   "cell_type": "markdown",
   "id": "1f7effc7-aede-4108-8795-e67931212227",
   "metadata": {},
   "source": [
    "Es posible visualizar las raices en los puntos de intersección se estas dos funciones:"
   ]
  },
  {
   "cell_type": "markdown",
   "id": "101f25aa-b5e9-4b47-a2df-036df0fd8bc2",
   "metadata": {},
   "source": [
    "$$j(v,\\beta) = q_{1} \\frac{J_{v}(q_{1}a)}{J_{v+1}(q_{1}a)}$$\n",
    "$$k(v,\\beta) = -q_{2} \\frac{K_{v}(q_{2}a)}{K_{v+1}(q_{2}a)}$$"
   ]
  },
  {
   "cell_type": "markdown",
   "id": "2b311c1e-ccf2-498f-b826-c0d6d5c854a9",
   "metadata": {},
   "source": [
    "Graficando los puntos de corte para el primer modo angular:"
   ]
  },
  {
   "cell_type": "code",
   "execution_count": 20,
   "id": "b7f5cbce-b9ca-45c6-8bd8-de33d816e2d8",
   "metadata": {},
   "outputs": [],
   "source": [
    "x_EH_v1 = np.linspace(9.114,9.1527,100)\n",
    "y_EH_v1 = EH(1,x_EH_v1)\n",
    "y_EH1_v1 = EH_01(1,x_EH_v1)\n",
    "y_EH2_v1 = EH_02(1,x_EH_v1)"
   ]
  },
  {
   "cell_type": "code",
   "execution_count": 21,
   "id": "b1864993-9f8f-4b24-9423-8877589f78a4",
   "metadata": {},
   "outputs": [
    {
     "data": {
      "image/png": "[encoded data removed]",
      "text/plain": [
       "<Figure size 432x288 with 1 Axes>"
      ]
     },
     "metadata": {
      "needs_background": "light"
     },
     "output_type": "display_data"
    }
   ],
   "source": [
    "fig, ax = plt.subplots()\n",
    "#ax.plot(xxx,yyy, label='S(b)', color='green')\n",
    "ax.plot(x_EH_v1,y_EH1_v1, label=r'j(1,$\\beta$)', color='red')\n",
    "ax.plot(x_EH_v1,y_EH2_v1, label=r'k(1,$\\beta$)', color='black')\n",
    "ax.set(xlabel=r'Constante de propagación $\\beta * 10^{6}$', ylabel=r'j(1,$\\beta$) y k(1,$\\beta$)',\n",
    "title=r'Puntos de corte j(1,$\\beta$) y k(1,$\\beta$)')\n",
    "ax.grid()\n",
    "plt.legend(loc='upper right')\n",
    "fig.tight_layout()\n",
    "plt.savefig('Puntos de corte EH_v1.png')\n",
    "plt.show()"
   ]
  },
  {
   "cell_type": "markdown",
   "id": "5af312c2-70cf-48fa-ba53-a8b98037144b",
   "metadata": {},
   "source": [
    "Dado que no existe ningún punto de corte, entonces tampoco hay ningún modo de propagación hibrido EH."
   ]
  },
  {
   "cell_type": "markdown",
   "id": "5abc27d7-4eb1-496a-9372-1c253ad3cf22",
   "metadata": {},
   "source": [
    "Por tanto los modos de propagación presentes en la fibra óptica son:"
   ]
  },
  {
   "cell_type": "markdown",
   "id": "d2339b7e-1dde-4ab7-a07f-e16258c236b5",
   "metadata": {},
   "source": [
    "$$TE_{01}: n_{eff} =  1.452544813591339$$\n",
    "$$TM_{01}: n_{eff} =  1.452544813591339$$\n",
    "$$HE_{11}: n_{eff} = 1.455080723094889$$\n",
    "$$HE_{21}: n_{eff}= 1.4525448135914436$$"
   ]
  },
  {
   "cell_type": "markdown",
   "id": "16f6b77a-43c1-4407-b214-92c0c233e2e8",
   "metadata": {},
   "source": [
    "## Modelamiento de campos"
   ]
  },
  {
   "cell_type": "markdown",
   "id": "c01ce79a-6200-4e2b-99c9-fe93dd308afa",
   "metadata": {},
   "source": [
    "En esta sección se modelaran los campos $|\\vec{E}|^{2}$, $H_{z}$ y $E_{z}$, donde las expresiones correspondientes a estos campos son:"
   ]
  },
  {
   "cell_type": "markdown",
   "id": "c093ef37-2e47-4ec9-aa9f-957ef3029f27",
   "metadata": {},
   "source": [
    "$$E_{z} = AJ_{v}(q_{1}r) e^{jv\\theta} e^{j(wt - \\beta z)}  \\ \\ \\ \\ \\ \\ \\ \\ r \\leq a$$\n",
    "$$E_{z} = C K_{v}(q_{2}r) e^{jv\\theta} e^{j(wt - \\beta z)}  \\ \\ \\ \\ \\ \\ \\ \\ r > a$$"
   ]
  },
  {
   "cell_type": "markdown",
   "id": "34c80723-4994-404a-ae58-b567e5841f06",
   "metadata": {},
   "source": [
    "Para el campo magnetico:"
   ]
  },
  {
   "cell_type": "markdown",
   "id": "a7ade60f-c587-4658-a50c-f7c4291e8fd2",
   "metadata": {},
   "source": [
    "$$H_{z} = B J_{v}(q_{1}r) e^{jv\\theta} e^{j(wt - \\beta z)}  \\ \\ \\ \\ \\ \\ \\ \\ r \\leq a$$\n",
    "$$H_{z} = D K_{v}(q_{2}r) e^{jv\\theta} e^{j(wt - \\beta z)}  \\ \\ \\ \\ \\ \\ \\ \\ r > a$$"
   ]
  },
  {
   "cell_type": "markdown",
   "id": "2ae05431-e90d-4fe3-b547-c6e43aac62ea",
   "metadata": {},
   "source": [
    "Donde las contantes A, B, C y D se pueden hallar al resolver el siguiente sistema de ecuaciones:"
   ]
  },
  {
   "cell_type": "markdown",
   "id": "00601c23-733e-423f-a107-c2eecf7e05ea",
   "metadata": {},
   "source": [
    "$$\\begin{equation}\n",
    "\\begin{bmatrix}\n",
    "J_{v}(q_{1}a) & 0 & -K_{v}(q_{2}a) & 0 \\\\\n",
    "\\frac{\\beta v}{q_{1}^{2}a} J_{v}(q_{1}a) & \\frac{j \\omega \\mu_{0}}{q_{1}} J_{v}^{'}(q_{1}a) & \\frac{\\beta v}{q_{2}^{2}a} K_{v}(q_{2}a) & \\frac{j \\omega \\mu_{0}}{q_{2}} K_{v}^{'}(q_{2}a) \\\\\n",
    "0 & J_{v}(q_{1}a) & 0 & -K_{v}(q_{2}a) \\\\\n",
    "- \\frac{j \\omega \\epsilon_{1}}{q_{1}} J_{v}^{'}(q_{1}a) & \\frac{\\beta v}{q_{1}^{2}a} J_{v}(q_{1}a) & - \\frac{j \\omega \\epsilon_{2}}{q_{2}} K_{v}^{'}(q_{2}a) & \\frac{\\beta v}{q_{2}^{2}a} K_{v}(q_{2}a)\n",
    "\\end{bmatrix}\n",
    "\\begin{bmatrix}\n",
    "A \\\\\n",
    "B \\\\\n",
    "C \\\\\n",
    "D\n",
    "\\end{bmatrix}\n",
    "=\\begin{bmatrix}\n",
    "0 \\\\\n",
    "0 \\\\\n",
    "0 \\\\\n",
    "0\n",
    "\\end{bmatrix}\n",
    "\\end{equation}$$"
   ]
  },
  {
   "cell_type": "markdown",
   "id": "ae3826d3-8190-45f3-b6ce-6a7b74cba099",
   "metadata": {},
   "source": [
    "De donde se tiene que:"
   ]
  },
  {
   "cell_type": "markdown",
   "id": "41076351-52b9-496f-82f5-ccb490c78f80",
   "metadata": {},
   "source": [
    "$$\\frac{C}{A} = \\frac{J_{v}(q_{1}a)}{K_{v}(q_{2}a)}$$\n",
    "$$\\frac{B}{A} = \\frac{i \\beta v}{\\omega \\mu_{0}}  \\left( \\frac{1}{q_{2}^{2}a^{2}} + \\frac{1}{q_1^{2}a^{2}} \\right) \\left( \\frac{J_{v}^{'}(q_{1}a)}{q_{1}aJ_{v}(q_{1}a)} + \\frac{K_{v}^{'}(q_{2}a)}{q_{2}aK_{v}(q_{2}a)}\\right)^{-1}$$\n",
    "$$\\frac{D}{A} = \\frac{J_{v}(q_{1}a)}{K_{v}(q_{2}a)} \\frac{B}{A}$$"
   ]
  },
  {
   "cell_type": "markdown",
   "id": "0441d396-20c2-4601-9776-1ed9fe7c01b1",
   "metadata": {},
   "source": [
    "Para los modos fundamentales, donde el modo angular es cero, se tienen dos posibles soluciones, la primera que $B=0$, por lo que solo sería util la ecuación que relaciona a $C$ y a $A$, es decir, la componente 'z' del campo electrico, ya que la componente 'z' del campo magnetico sería cero, por lo que se estaría tomando el modo $TM_{0m}$; por otro lado, también se puede tener el caso donde $A=\\infty$, por tanto se estaría trabajando con $TE_{0m}$, ya que la componente 'z' del campo electrico es nula."
   ]
  },
  {
   "cell_type": "markdown",
   "id": "299e7de8-84cc-4fad-9954-15e26cd12110",
   "metadata": {},
   "source": [
    "### Modo $TM_{01}$"
   ]
  },
  {
   "cell_type": "markdown",
   "id": "19bf7ce7-8554-4418-af1e-6bd7badf9a15",
   "metadata": {},
   "source": [
    "Teniendo en cuenta la información anterior, para el modo $TM_{01}$ solo tendría relevancia el campo electrico en el eje 'z', por lo que primeramente expresamos la constante $C$ en terminos de $A$:"
   ]
  },
  {
   "cell_type": "markdown",
   "id": "dfa3763a-b4b8-4b74-acaf-9089c16f3974",
   "metadata": {},
   "source": [
    "$$C = \\frac{J_{0}(q_{1}a)}{K_{0}(q_{2}a)} A$$"
   ]
  },
  {
   "cell_type": "markdown",
   "id": "d9360725-8a7a-4882-a75a-0295dae65301",
   "metadata": {},
   "source": [
    "Y posteriormente lo reemplazamos en la expresión para el campo electrico en dirección 'z':"
   ]
  },
  {
   "cell_type": "markdown",
   "id": "61e00cb9-521a-4b81-b4e8-4b1cfa6c187c",
   "metadata": {},
   "source": [
    "$$E_{z} = AJ_{0}(q_{1}r) e^{j(wt - \\beta z)}  \\ \\ \\ \\ \\ \\ \\ \\ r \\leq a$$\n",
    "$$E_{z} = \\frac{J_{0}(q_{1}a)}{K_{0}(q_{2}a)} A K_{0}(q_{2}r) e^{j(wt - \\beta z)}  \\ \\ \\ \\ \\ \\ \\ \\ r > a$$"
   ]
  },
  {
   "cell_type": "code",
   "execution_count": 22,
   "id": "93bbae22-6552-4bce-8a2e-8b1e133d3778",
   "metadata": {},
   "outputs": [],
   "source": [
    "a = 4.1 * (10 ** -6)\n",
    "\n",
    "def Ez_TM_01_co(r, theta, t):\n",
    "    w = 2*np.pi* (3 * (10 ** 6))\n",
    "    Ez = sp.jv(0,q1(tm_te_zeros)*r)*np.exp((1j)*(w*t-tm_te_zeros))*(theta ** 0)\n",
    "    Ezi = Ez*np.conj(Ez)\n",
    "    return Ezi, Ez\n",
    "\n",
    "def Ez_TM_cl(r, theya, t):\n",
    "    w = "
   ]
  },
  {
   "cell_type": "code",
   "execution_count": 45,
   "id": "43d4cba0-7821-4629-b4b7-08d370d63e43",
   "metadata": {},
   "outputs": [],
   "source": [
    "dr, dtheta = a/100, (2*np.pi)/100\n",
    "r, theta = np.mgrid[-a:a+dr:dr, 0:2*np.pi+dtheta:dtheta]\n",
    "\n",
    "zz = Ez_TM_01_co(r,theta, 1)[0]\n",
    "zz = zz[:-1, :-1]\n",
    "z_min, z_max = abs(zz).min(), abs(zz).max()\n",
    "zz = np.real(zz)"
   ]
  },
  {
   "cell_type": "code",
   "execution_count": 44,
   "id": "12aa37e6-ce14-4d53-8a99-06b7f0e13e2a",
   "metadata": {},
   "outputs": [
    {
     "data": {
      "text/plain": [
       "<matplotlib.colorbar.Colorbar at 0x7fa61f94aa10>"
      ]
     },
     "execution_count": 44,
     "metadata": {},
     "output_type": "execute_result"
    },
    {
     "data": {
      "image/png": "[encoded data removed]",
      "text/plain": [
       "<Figure size 432x288 with 2 Axes>"
      ]
     },
     "metadata": {
      "needs_background": "light"
     },
     "output_type": "display_data"
    }
   ],
   "source": [
    "fig, axs = plt.subplots()\n",
    "ax = axs\n",
    "c = ax.pcolor(polar_car(r,theta)[0], polar_car(r,theta)[1], zz, cmap='rainbow', vmin=z_min, vmax=z_max)\n",
    "ax.set_title('pcolor')\n",
    "fig.colorbar(c, ax=ax)"
   ]
  },
  {
   "cell_type": "code",
   "execution_count": null,
   "id": "37163c37-a4b8-4933-95f5-a358ca9879a8",
   "metadata": {},
   "outputs": [],
   "source": []
  },
  {
   "cell_type": "code",
   "execution_count": 25,
   "id": "b3b8c601-8ec0-4c48-9842-dbe133ca250d",
   "metadata": {},
   "outputs": [
    {
     "data": {
      "text/plain": [
       "array([[-0.21826888+0.00000000e+00j,  0.        +0.00000000e+00j,\n",
       "        -0.11052632+0.00000000e+00j,  0.        +0.00000000e+00j],\n",
       "       [ 0.        +0.00000000e+00j, -0.        -1.28315903e-05j,\n",
       "         0.        +0.00000000e+00j, -0.        -6.49762107e-06j],\n",
       "       [ 0.        +0.00000000e+00j, -0.21826888+0.00000000e+00j,\n",
       "         0.        +0.00000000e+00j, -0.11052632+0.00000000e+00j],\n",
       "       [ 0.        +4.42650478e-05j,  0.        +0.00000000e+00j,\n",
       "         0.        +2.23157857e-05j,  0.        +0.00000000e+00j]])"
      ]
     },
     "execution_count": 25,
     "metadata": {},
     "output_type": "execute_result"
    }
   ],
   "source": [
    "a = 4.1 * (10 ** -6)\n",
    "Ez = [sp.jv(0,a*q1(tm_te_zeros)), 0, -sp.kn(0,q2(tm_te_zeros)*a), 0]\n",
    "Etheta = [0, (((1j)*(2*np.pi* (3 * (10 ** 6)))*(4*np.pi* (10 ** -7))) / q1(tm_te_zeros)) * sp.jvp(0,q1(tm_te_zeros)*a,1), 0, (((1j)*(2*np.pi* (3 * (10 ** 6)))*(4*np.pi* (10 ** -7))) / q2(tm_te_zeros)) * sp.kvp(0,q2(tm_te_zeros)*a,1)]\n",
    "Hz = [0, sp.jv(0,a*q1(tm_te_zeros)), 0, -sp.kn(0,q2(tm_te_zeros)*a)]\n",
    "Htheta = [(((-1j)*(2*np.pi* (3 * (10 ** 6)))*nco*np.sqrt(8.8542 * (10 ** -12))) / q1(tm_te_zeros)) * sp.jvp(0,q1(tm_te_zeros)*a,1), 0, (((-1j)*(2*np.pi* (3 * (10 ** 6)))*ncl*np.sqrt(8.8542 * (10 ** -12))) / q2(tm_te_zeros)) * sp.kvp(0,q2(tm_te_zeros)*a,1), 0]\n",
    "ABCD_matrix = np.array([Ez, Etheta, Hz, Htheta])\n",
    "ABCD_matrix"
   ]
  },
  {
   "cell_type": "code",
   "execution_count": 26,
   "id": "b4031fad-8544-442a-a852-ab551a8d2bcd",
   "metadata": {},
   "outputs": [],
   "source": [
    "w = np.linalg.inv(ABCD_matrix)"
   ]
  },
  {
   "cell_type": "code",
   "execution_count": 27,
   "id": "89cf7c56-d14f-4d3d-bc63-ddc7fb017797",
   "metadata": {},
   "outputs": [
    {
     "data": {
      "text/plain": [
       "(-0+9.901251311780047e-08j)"
      ]
     },
     "execution_count": 27,
     "metadata": {},
     "output_type": "execute_result"
    }
   ],
   "source": [
    "(((ABCD_matrix[3,0])*(ABCD_matrix[0,2]))/ABCD_matrix[0,0]) - ABCD_matrix[3,2]"
   ]
  },
  {
   "cell_type": "code",
   "execution_count": 28,
   "id": "00a0341e-b386-4fec-bd00-7ee5be88f5c8",
   "metadata": {},
   "outputs": [],
   "source": [
    "p = np.linspace(-5,5,100)\n",
    "r0 = sp.jvp(0,p,0)\n",
    "r1 = sp.jvp(0,p,1)\n",
    "r2 = sp.jvp(0,p,2)"
   ]
  },
  {
   "cell_type": "code",
   "execution_count": 29,
   "id": "65873fbd-90b6-4042-83d3-52f317fd6eec",
   "metadata": {},
   "outputs": [
    {
     "data": {
      "image/png": "[encoded data removed]",
      "text/plain": [
       "<Figure size 432x288 with 1 Axes>"
      ]
     },
     "metadata": {
      "needs_background": "light"
     },
     "output_type": "display_data"
    }
   ],
   "source": [
    "fig, ax = plt.subplots()\n",
    "ax.plot(p,r0, color='red')\n",
    "ax.plot(p,r1, color='black')\n",
    "ax.plot(p,r2, color='green')\n",
    "ax.grid()\n",
    "#plt.legend(loc='upper right')\n",
    "fig.tight_layout()\n",
    "plt.show()"
   ]
  },
  {
   "cell_type": "code",
   "execution_count": 30,
   "id": "3b99ca74-147a-408e-9c95-fd85ae1947b2",
   "metadata": {},
   "outputs": [
    {
     "data": {
      "text/plain": [
       "-0.3810522911845763"
      ]
     },
     "execution_count": 30,
     "metadata": {},
     "output_type": "execute_result"
    }
   ],
   "source": [
    "sp.jvp(0,q1(tm_te_zeros)*a,1)"
   ]
  }
 ],
 "metadata": {
  "kernelspec": {
   "display_name": "Python 3 (ipykernel)",
   "language": "python",
   "name": "python3"
  },
  "language_info": {
   "codemirror_mode": {
    "name": "ipython",
    "version": 3
   },
   "file_extension": ".py",
   "mimetype": "text/x-python",
   "name": "python",
   "nbconvert_exporter": "python",
   "pygments_lexer": "ipython3",
   "version": "3.10.4"
  }
 },
 "nbformat": 4,
 "nbformat_minor": 5
}
